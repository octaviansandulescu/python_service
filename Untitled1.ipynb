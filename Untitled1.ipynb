{
 "cells": [
  {
   "cell_type": "code",
   "execution_count": 3,
   "id": "d9f115ec-8db5-4ef6-869b-316f725e0895",
   "metadata": {},
   "outputs": [],
   "source": [
    "import requests"
   ]
  },
  {
   "cell_type": "code",
   "execution_count": 11,
   "id": "29e643b0-0daf-4c83-a5a5-625bbec0ad15",
   "metadata": {},
   "outputs": [],
   "source": [
    "response = requests.get(\"https://wttr.in/Tulcea\")"
   ]
  },
  {
   "cell_type": "code",
   "execution_count": 15,
   "id": "274e8654-d638-4cb3-a278-a2bb279781cb",
   "metadata": {},
   "outputs": [
    {
     "data": {
      "text/plain": [
       "200"
      ]
     },
     "execution_count": 15,
     "metadata": {},
     "output_type": "execute_result"
    }
   ],
   "source": [
    "response.status_code"
   ]
  },
  {
   "cell_type": "code",
   "execution_count": 14,
   "id": "7bd8716e-5764-4276-9079-2b750245a2db",
   "metadata": {},
   "outputs": [
    {
     "data": {
      "text/plain": [
       "['__attrs__',\n",
       " '__bool__',\n",
       " '__class__',\n",
       " '__delattr__',\n",
       " '__dict__',\n",
       " '__dir__',\n",
       " '__doc__',\n",
       " '__enter__',\n",
       " '__eq__',\n",
       " '__exit__',\n",
       " '__firstlineno__',\n",
       " '__format__',\n",
       " '__ge__',\n",
       " '__getattribute__',\n",
       " '__getstate__',\n",
       " '__gt__',\n",
       " '__hash__',\n",
       " '__init__',\n",
       " '__init_subclass__',\n",
       " '__iter__',\n",
       " '__le__',\n",
       " '__lt__',\n",
       " '__module__',\n",
       " '__ne__',\n",
       " '__new__',\n",
       " '__nonzero__',\n",
       " '__reduce__',\n",
       " '__reduce_ex__',\n",
       " '__repr__',\n",
       " '__setattr__',\n",
       " '__setstate__',\n",
       " '__sizeof__',\n",
       " '__static_attributes__',\n",
       " '__str__',\n",
       " '__subclasshook__',\n",
       " '__weakref__',\n",
       " '_content',\n",
       " '_content_consumed',\n",
       " '_next',\n",
       " 'apparent_encoding',\n",
       " 'close',\n",
       " 'connection',\n",
       " 'content',\n",
       " 'cookies',\n",
       " 'elapsed',\n",
       " 'encoding',\n",
       " 'headers',\n",
       " 'history',\n",
       " 'is_permanent_redirect',\n",
       " 'is_redirect',\n",
       " 'iter_content',\n",
       " 'iter_lines',\n",
       " 'json',\n",
       " 'links',\n",
       " 'next',\n",
       " 'ok',\n",
       " 'raise_for_status',\n",
       " 'raw',\n",
       " 'reason',\n",
       " 'request',\n",
       " 'status_code',\n",
       " 'text',\n",
       " 'url']"
      ]
     },
     "execution_count": 14,
     "metadata": {},
     "output_type": "execute_result"
    }
   ],
   "source": [
    "dir(response)"
   ]
  },
  {
   "cell_type": "code",
   "execution_count": 16,
   "id": "72a021ff-f1c3-49bd-b524-09419565aa44",
   "metadata": {},
   "outputs": [
    {
     "name": "stdout",
     "output_type": "stream",
     "text": [
      "Weather report: Tulcea\n",
      "\n",
      "  \u001b[38;5;226m   \\  /\u001b[0m       Partly cloudy\n",
      "  \u001b[38;5;226m _ /\"\"\u001b[38;5;250m.-.    \u001b[0m \u001b[38;5;220m+27\u001b[0m(\u001b[38;5;220m26\u001b[0m) °C\u001b[0m     \n",
      "  \u001b[38;5;226m   \\_\u001b[38;5;250m(   ).  \u001b[0m \u001b[1m↓\u001b[0m \u001b[38;5;214m20\u001b[0m km/h\u001b[0m      \n",
      "  \u001b[38;5;226m   /\u001b[38;5;250m(___(__) \u001b[0m 10 km\u001b[0m          \n",
      "                0.0 mm\u001b[0m         \n",
      "                                                       ┌─────────────┐                                                       \n",
      "┌──────────────────────────────┬───────────────────────┤  Tue 01 Jul ├───────────────────────┬──────────────────────────────┐\n",
      "│            Morning           │             Noon      └──────┬──────┘     Evening           │             Night            │\n",
      "├──────────────────────────────┼──────────────────────────────┼──────────────────────────────┼──────────────────────────────┤\n",
      "│ \u001b[38;5;226m    \\   /    \u001b[0m Sunny          │ \u001b[38;5;226m    \\   /    \u001b[0m Sunny          │ \u001b[38;5;226m    \\   /    \u001b[0m Sunny          │ \u001b[38;5;226m   \\  /\u001b[0m       Partly Cloudy  │\n",
      "│ \u001b[38;5;226m     .-.     \u001b[0m \u001b[38;5;226m+24\u001b[0m(\u001b[38;5;220m25\u001b[0m) °C\u001b[0m     │ \u001b[38;5;226m     .-.     \u001b[0m \u001b[38;5;220m+27\u001b[0m(\u001b[38;5;220m26\u001b[0m) °C\u001b[0m     │ \u001b[38;5;226m     .-.     \u001b[0m \u001b[38;5;220m+26\u001b[0m(\u001b[38;5;220m25\u001b[0m) °C\u001b[0m     │ \u001b[38;5;226m _ /\"\"\u001b[38;5;250m.-.    \u001b[0m \u001b[38;5;226m22\u001b[0m °C\u001b[0m          │\n",
      "│ \u001b[38;5;226m  ― (   ) ―  \u001b[0m \u001b[1m↘\u001b[0m \u001b[38;5;214m22\u001b[0m-\u001b[38;5;208m25\u001b[0m km/h\u001b[0m   │ \u001b[38;5;226m  ― (   ) ―  \u001b[0m \u001b[1m↘\u001b[0m \u001b[38;5;214m23\u001b[0m-\u001b[38;5;208m26\u001b[0m km/h\u001b[0m   │ \u001b[38;5;226m  ― (   ) ―  \u001b[0m \u001b[1m↓\u001b[0m \u001b[38;5;208m24\u001b[0m-\u001b[38;5;202m30\u001b[0m km/h\u001b[0m   │ \u001b[38;5;226m   \\_\u001b[38;5;250m(   ).  \u001b[0m \u001b[1m↘\u001b[0m \u001b[38;5;226m14\u001b[0m-\u001b[38;5;208m27\u001b[0m km/h\u001b[0m   │\n",
      "│ \u001b[38;5;226m     `-’     \u001b[0m 10 km\u001b[0m          │ \u001b[38;5;226m     `-’     \u001b[0m 10 km\u001b[0m          │ \u001b[38;5;226m     `-’     \u001b[0m 10 km\u001b[0m          │ \u001b[38;5;226m   /\u001b[38;5;250m(___(__) \u001b[0m 10 km\u001b[0m          │\n",
      "│ \u001b[38;5;226m    /   \\    \u001b[0m 0.0 mm | 0%\u001b[0m    │ \u001b[38;5;226m    /   \\    \u001b[0m 0.0 mm | 0%\u001b[0m    │ \u001b[38;5;226m    /   \\    \u001b[0m 0.0 mm | 0%\u001b[0m    │               0.0 mm | 0%\u001b[0m    │\n",
      "└──────────────────────────────┴──────────────────────────────┴──────────────────────────────┴──────────────────────────────┘\n",
      "                                                       ┌─────────────┐                                                       \n",
      "┌──────────────────────────────┬───────────────────────┤  Wed 02 Jul ├───────────────────────┬──────────────────────────────┐\n",
      "│            Morning           │             Noon      └──────┬──────┘     Evening           │             Night            │\n",
      "├──────────────────────────────┼──────────────────────────────┼──────────────────────────────┼──────────────────────────────┤\n",
      "│ \u001b[38;5;226m    \\   /    \u001b[0m Sunny          │ \u001b[38;5;226m    \\   /    \u001b[0m Sunny          │ \u001b[38;5;226m    \\   /    \u001b[0m Sunny          │ \u001b[38;5;226m    \\   /    \u001b[0m Clear          │\n",
      "│ \u001b[38;5;226m     .-.     \u001b[0m \u001b[38;5;226m24\u001b[0m °C\u001b[0m          │ \u001b[38;5;226m     .-.     \u001b[0m \u001b[38;5;220m+27\u001b[0m(\u001b[38;5;220m26\u001b[0m) °C\u001b[0m     │ \u001b[38;5;226m     .-.     \u001b[0m \u001b[38;5;214m+28\u001b[0m(\u001b[38;5;220m27\u001b[0m) °C\u001b[0m     │ \u001b[38;5;226m     .-.     \u001b[0m \u001b[38;5;226m22\u001b[0m °C\u001b[0m          │\n",
      "│ \u001b[38;5;226m  ― (   ) ―  \u001b[0m \u001b[1m↓\u001b[0m \u001b[38;5;214m21\u001b[0m-\u001b[38;5;208m24\u001b[0m km/h\u001b[0m   │ \u001b[38;5;226m  ― (   ) ―  \u001b[0m \u001b[1m↘\u001b[0m \u001b[38;5;214m23\u001b[0m-\u001b[38;5;208m26\u001b[0m km/h\u001b[0m   │ \u001b[38;5;226m  ― (   ) ―  \u001b[0m \u001b[1m↘\u001b[0m \u001b[38;5;208m27\u001b[0m-\u001b[38;5;196m34\u001b[0m km/h\u001b[0m   │ \u001b[38;5;226m  ― (   ) ―  \u001b[0m \u001b[1m↘\u001b[0m \u001b[38;5;226m13\u001b[0m-\u001b[38;5;202m28\u001b[0m km/h\u001b[0m   │\n",
      "│ \u001b[38;5;226m     `-’     \u001b[0m 10 km\u001b[0m          │ \u001b[38;5;226m     `-’     \u001b[0m 10 km\u001b[0m          │ \u001b[38;5;226m     `-’     \u001b[0m 10 km\u001b[0m          │ \u001b[38;5;226m     `-’     \u001b[0m 10 km\u001b[0m          │\n",
      "│ \u001b[38;5;226m    /   \\    \u001b[0m 0.0 mm | 0%\u001b[0m    │ \u001b[38;5;226m    /   \\    \u001b[0m 0.0 mm | 0%\u001b[0m    │ \u001b[38;5;226m    /   \\    \u001b[0m 0.0 mm | 0%\u001b[0m    │ \u001b[38;5;226m    /   \\    \u001b[0m 0.0 mm | 0%\u001b[0m    │\n",
      "└──────────────────────────────┴──────────────────────────────┴──────────────────────────────┴──────────────────────────────┘\n",
      "                                                       ┌─────────────┐                                                       \n",
      "┌──────────────────────────────┬───────────────────────┤  Thu 03 Jul ├───────────────────────┬──────────────────────────────┐\n",
      "│            Morning           │             Noon      └──────┬──────┘     Evening           │             Night            │\n",
      "├──────────────────────────────┼──────────────────────────────┼──────────────────────────────┼──────────────────────────────┤\n",
      "│ \u001b[38;5;226m    \\   /    \u001b[0m Sunny          │ \u001b[38;5;226m    \\   /    \u001b[0m Sunny          │ \u001b[38;5;226m    \\   /    \u001b[0m Sunny          │ \u001b[38;5;226m    \\   /    \u001b[0m Clear          │\n",
      "│ \u001b[38;5;226m     .-.     \u001b[0m \u001b[38;5;220m26\u001b[0m °C\u001b[0m          │ \u001b[38;5;226m     .-.     \u001b[0m \u001b[38;5;214m+30\u001b[0m(\u001b[38;5;214m29\u001b[0m) °C\u001b[0m     │ \u001b[38;5;226m     .-.     \u001b[0m \u001b[38;5;214m+30\u001b[0m(\u001b[38;5;214m29\u001b[0m) °C\u001b[0m     │ \u001b[38;5;226m     .-.     \u001b[0m \u001b[38;5;190m21\u001b[0m °C\u001b[0m          │\n",
      "│ \u001b[38;5;226m  ― (   ) ―  \u001b[0m \u001b[1m↓\u001b[0m \u001b[38;5;220m19\u001b[0m-\u001b[38;5;214m22\u001b[0m km/h\u001b[0m   │ \u001b[38;5;226m  ― (   ) ―  \u001b[0m \u001b[1m↓\u001b[0m \u001b[38;5;220m17\u001b[0m-\u001b[38;5;220m19\u001b[0m km/h\u001b[0m   │ \u001b[38;5;226m  ― (   ) ―  \u001b[0m \u001b[1m↓\u001b[0m \u001b[38;5;154m9\u001b[0m-\u001b[38;5;190m12\u001b[0m km/h\u001b[0m    │ \u001b[38;5;226m  ― (   ) ―  \u001b[0m \u001b[1m↑\u001b[0m \u001b[38;5;190m10\u001b[0m-\u001b[38;5;214m20\u001b[0m km/h\u001b[0m   │\n",
      "│ \u001b[38;5;226m     `-’     \u001b[0m 10 km\u001b[0m          │ \u001b[38;5;226m     `-’     \u001b[0m 10 km\u001b[0m          │ \u001b[38;5;226m     `-’     \u001b[0m 10 km\u001b[0m          │ \u001b[38;5;226m     `-’     \u001b[0m 10 km\u001b[0m          │\n",
      "│ \u001b[38;5;226m    /   \\    \u001b[0m 0.0 mm | 0%\u001b[0m    │ \u001b[38;5;226m    /   \\    \u001b[0m 0.0 mm | 0%\u001b[0m    │ \u001b[38;5;226m    /   \\    \u001b[0m 0.0 mm | 0%\u001b[0m    │ \u001b[38;5;226m    /   \\    \u001b[0m 0.0 mm | 0%\u001b[0m    │\n",
      "└──────────────────────────────┴──────────────────────────────┴──────────────────────────────┴──────────────────────────────┘\n",
      "Location: Tulcea, România [45.0046615,29.0687175089862]\n",
      "\n",
      "Follow \u001b[46m\u001b[30m@igor_chubin\u001b[0m for wttr.in updates\n",
      "\n"
     ]
    }
   ],
   "source": [
    "print(response.text)"
   ]
  },
  {
   "cell_type": "code",
   "execution_count": null,
   "id": "1cd843de-da60-4eb4-9920-79850c5a083f",
   "metadata": {},
   "outputs": [],
   "source": []
  }
 ],
 "metadata": {
  "kernelspec": {
   "display_name": "Python 3 (ipykernel)",
   "language": "python",
   "name": "python3"
  },
  "language_info": {
   "codemirror_mode": {
    "name": "ipython",
    "version": 3
   },
   "file_extension": ".py",
   "mimetype": "text/x-python",
   "name": "python",
   "nbconvert_exporter": "python",
   "pygments_lexer": "ipython3",
   "version": "3.13.5"
  }
 },
 "nbformat": 4,
 "nbformat_minor": 5
}
